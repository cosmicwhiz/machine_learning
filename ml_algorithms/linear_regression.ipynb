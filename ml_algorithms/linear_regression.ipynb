{
 "cells": [
  {
   "cell_type": "code",
   "execution_count": null,
   "metadata": {},
   "outputs": [],
   "source": [
    "import numpy as np\n",
    "import pandas as pd\n",
    "import matplotlib.pyplot as plt\n",
    "from sklearn.datasets import fetch_california_housing"
   ]
  },
  {
   "cell_type": "code",
   "execution_count": null,
   "metadata": {},
   "outputs": [],
   "source": [
    "# Load the dataset\n",
    "df = fetch_california_housing()\n",
    "dataset = pd.DataFrame(df.data, columns=df.feature_names)\n",
    "dataset['Price'] = df.target\n",
    "dataset.head()"
   ]
  },
  {
   "cell_type": "markdown",
   "metadata": {},
   "source": [
    "### Linear Regression"
   ]
  },
  {
   "cell_type": "code",
   "execution_count": null,
   "metadata": {},
   "outputs": [],
   "source": [
    "from sklearn.model_selection import train_test_split, cross_val_score\n",
    "from sklearn.linear_model import LinearRegression\n",
    "from sklearn.metrics import mean_squared_error\n",
    "\n",
    "# Selecting features and targets\n",
    "X = dataset.drop('Price', axis=1)\n",
    "y = dataset['Price']\n",
    "\n",
    "# Split the data into training and testing sets\n",
    "X_train, X_test, y_train, y_test = train_test_split(X, y, test_size=0.2, random_state=42)\n",
    "\n",
    "# Train the model\n",
    "model = LinearRegression()\n",
    "model.fit(X_train, y_train)\n",
    "\n",
    "# Predict the prices\n",
    "predictions = model.predict(X_test)\n",
    "\n",
    "# Calculate the error\n",
    "mse = mean_squared_error(y_test, predictions)\n",
    "print(f\"Mean Squared Error: {mse}\")\n"
   ]
  },
  {
   "cell_type": "markdown",
   "metadata": {},
   "source": [
    "### Ridge Regression (L2 Regularisation)"
   ]
  },
  {
   "cell_type": "code",
   "execution_count": null,
   "metadata": {},
   "outputs": [],
   "source": [
    "from sklearn.linear_model import Ridge, RidgeCV\n",
    "\n",
    "alphas = np.logspace(-3, 3, 100)\n",
    "\n",
    "# Perform cross-validation to find optimal alpha\n",
    "ridge_cv = RidgeCV(alphas=alphas, cv=5)\n",
    "ridge_cv.fit(X_train, y_train)\n",
    "\n",
    "ridge_optimal_alpha = ridge_cv.alpha_\n",
    "\n",
    "# Predict the prices\n",
    "ridge_predictions = ridge_cv.predict(X_test)\n",
    "\n",
    "# Compute the loss\n",
    "mse_ridge = mean_squared_error(y_test, ridge_predictions)\n",
    "print(f\"Ridge Optimal Alpha: {ridge_optimal_alpha}\")\n",
    "print(f\"Ridge Mean Squared Error: {mse_ridge}\")"
   ]
  },
  {
   "cell_type": "markdown",
   "metadata": {},
   "source": [
    "### Lasso Regression (L1 Regularisation)"
   ]
  },
  {
   "cell_type": "code",
   "execution_count": null,
   "metadata": {},
   "outputs": [],
   "source": [
    "from sklearn.linear_model import Lasso, LassoCV\n",
    "\n",
    "# Cross-validation to find best alpha\n",
    "lasso_cv = LassoCV(alphas=alphas)\n",
    "lasso_cv.fit(X_train, y_train)\n",
    "\n",
    "lasso_optimal_alpha = lasso_cv.alpha_\n",
    "\n",
    "# Predict the prices\n",
    "lasso_predictions = lasso_cv.predict(X_test)\n",
    "\n",
    "# Compute the loss\n",
    "lasso_mse = mean_squared_error(y_test, lasso_predictions)\n",
    "print(f\"Lasso Optimal Alpha: {lasso_optimal_alpha}\")\n",
    "print(f\"Lasso Mean Squared Error: {lasso_mse}\")"
   ]
  },
  {
   "cell_type": "markdown",
   "metadata": {},
   "source": [
    "### ElasticNet Regression\n",
    "<p style=\"font-size: 16px; color: gray\">Combines both L1(Lasso) and L2(Ridge) regularisation terms in the objective function</p>"
   ]
  },
  {
   "cell_type": "code",
   "execution_count": null,
   "metadata": {},
   "outputs": [],
   "source": [
    "from sklearn.linear_model import ElasticNet, ElasticNetCV\n",
    "\n",
    "# Specify a range of l1_ratio values to try\n",
    "l1_ratios = np.linspace(0.01, 1, 25)\n",
    "\n",
    "# Perform cross-validation to find the best values of alpha and l1_ratio\n",
    "elasticnet_cv = ElasticNetCV(alphas=alphas, l1_ratio=l1_ratios, cv=5)\n",
    "elasticnet_cv.fit(X_train, y_train)\n",
    "\n",
    "# Get the optimal values\n",
    "en_optimal_alpha = elasticnet_cv.alpha_\n",
    "en_optimal_l1_ratio = elasticnet_cv.l1_ratio_\n",
    "\n",
    "en_predictions = elasticnet_cv.predict(X_test)\n",
    "\n",
    "# Calculate the loss\n",
    "en_mse = mean_squared_error(y_test, en_predictions)\n",
    "\n",
    "print(f\"Optimal Alpha: {en_optimal_alpha} L1_Ratio: {en_optimal_l1_ratio}\")\n",
    "print(f\"ElasticNet Mean Squared Error: {en_mse}\")"
   ]
  }
 ],
 "metadata": {
  "kernelspec": {
   "display_name": "Python 3.10.6 64-bit",
   "language": "python",
   "name": "python3"
  },
  "language_info": {
   "codemirror_mode": {
    "name": "ipython",
    "version": 3
   },
   "file_extension": ".py",
   "mimetype": "text/x-python",
   "name": "python",
   "nbconvert_exporter": "python",
   "pygments_lexer": "ipython3",
   "version": "3.10.6"
  },
  "orig_nbformat": 4,
  "vscode": {
   "interpreter": {
    "hash": "d946eb87d352ac35db7131733de2e48b5b47ed33604f1e717fd091a1bd312ce0"
   }
  }
 },
 "nbformat": 4,
 "nbformat_minor": 2
}
