{
 "cells": [
  {
   "cell_type": "code",
   "execution_count": 2,
   "metadata": {},
   "outputs": [],
   "source": [
    "import numpy as np\n",
    "import gym\n",
    "import random\n",
    "import time\n",
    "from IPython.display import clear_output"
   ]
  },
  {
   "cell_type": "code",
   "execution_count": 22,
   "metadata": {},
   "outputs": [],
   "source": [
    "env = gym.make('FrozenLake-v1', render_mode=\"human\")"
   ]
  },
  {
   "cell_type": "code",
   "execution_count": null,
   "metadata": {},
   "outputs": [],
   "source": [
    "action_space_size = env.action_space.n\n",
    "state_space_size = env.observation_space.n\n",
    "\n",
    "q_table = np.zeros((state_space_size, action_space_size))\n",
    "print(q_table)"
   ]
  },
  {
   "cell_type": "code",
   "execution_count": 11,
   "metadata": {},
   "outputs": [],
   "source": [
    "num_episodes = 8000\n",
    "max_steps_per_episode = 1000\n",
    "\n",
    "learning_rate = 0.1\n",
    "discount_rate = 0.99\n",
    "\n",
    "exploration_rate = 1\n",
    "max_exploratin_rate = 1\n",
    "exploration_decay_rate = 0.015"
   ]
  },
  {
   "cell_type": "code",
   "execution_count": null,
   "metadata": {},
   "outputs": [],
   "source": [
    "rewards_all_episodes = []\n",
    "\n",
    "# Q-Learning Algorithm\n",
    "for episode in range(num_episodes):\n",
    "    state = env.reset()\n",
    "    \n",
    "    done = False\n",
    "    rewards_current_episode = 0\n",
    "\n",
    "    for step in range(max_steps_per_episode):\n",
    "\n",
    "        # Exploration-exploitation trade-off\n",
    "        exploration_rate_threshold = random.uniform(0, 1)\n",
    "        if exploration_rate_threshold > exploration_rate:\n",
    "            # Exploit the environment and choose the action that has the highest q-value for the current state\n",
    "            action = np.argmax(q_table[state,:])\n",
    "        else:\n",
    "            # Explore the environment and sample an action randomly\n",
    "            action = env.action_space.sample()\n",
    "        \n",
    "        # take the chosen action\n",
    "        new_state, reward, done, info = env.step(action)\n",
    "\n",
    "        # Update the Q-table for Q(s, a)\n",
    "        q_table[state, action] = q_table[state, action] * (1 - learning_rate) + learning_rate * (reward + discount_rate * np.max(q_table[new_state, :]))\n",
    "\n",
    "        state = new_state\n",
    "        rewards_current_episode += reward\n",
    "\n",
    "        if done:\n",
    "            break\n",
    "\n",
    "    # Exploration rate decay\n",
    "    exploration_rate = max_exploratin_rate * np.exp(-exploration_decay_rate*episode)\n",
    "\n",
    "    rewards_all_episodes.append(rewards_current_episode)\n",
    "    \n",
    "# Calculate and print the average reward per thousand episodes\n",
    "rewards_per_thousand_episodes = np.split(np.array(rewards_all_episodes), num_episodes/1000)\n",
    "count = 1000\n",
    "print('-------------------Average reward per thousand episodes---------------------')\n",
    "for r in rewards_per_thousand_episodes:\n",
    "    print(count, ':', str(sum(r)/1000))\n",
    "    count += 1000\n",
    "    \n",
    "# Print updated Q-table\n",
    "print('\\n\\n--------------Q-Table----------------')\n",
    "print(q_table)"
   ]
  },
  {
   "cell_type": "code",
   "execution_count": 23,
   "metadata": {},
   "outputs": [
    {
     "name": "stdout",
     "output_type": "stream",
     "text": [
      "****** You reached the goal! *******\n"
     ]
    }
   ],
   "source": [
    "# Watch the agent play the game\n",
    "for episode in range(3):\n",
    "    state = env.reset()\n",
    "    done = False\n",
    "    print(\"-----------Episode\", episode+1, \"---------\\n\\n\\n\")\n",
    "    time.sleep(1)\n",
    "\n",
    "    for step in range(max_steps_per_episode):\n",
    "        clear_output(True)\n",
    "        env.render()\n",
    "        time.sleep(0.3)\n",
    "\n",
    "        action = np.argmax(q_table[state, :])\n",
    "        new_state, reward, done, info = env.step(action)\n",
    "\n",
    "        if done:\n",
    "            clear_output(True)\n",
    "            env.render()\n",
    "            if reward == 1:\n",
    "                print(\"****** You reached the goal! *******\")\n",
    "            else:\n",
    "                print(\"****** You fell through a hole! *******\")\n",
    "            time.sleep(2)\n",
    "            clear_output(True)\n",
    "            break\n",
    "            \n",
    "        state = new_state\n",
    "\n",
    "env.close()"
   ]
  }
 ],
 "metadata": {
  "kernelspec": {
   "display_name": "Python 3.10.6 64-bit",
   "language": "python",
   "name": "python3"
  },
  "language_info": {
   "codemirror_mode": {
    "name": "ipython",
    "version": 3
   },
   "file_extension": ".py",
   "mimetype": "text/x-python",
   "name": "python",
   "nbconvert_exporter": "python",
   "pygments_lexer": "ipython3",
   "version": "3.10.6"
  },
  "vscode": {
   "interpreter": {
    "hash": "d946eb87d352ac35db7131733de2e48b5b47ed33604f1e717fd091a1bd312ce0"
   }
  }
 },
 "nbformat": 4,
 "nbformat_minor": 2
}
