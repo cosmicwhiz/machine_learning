{
 "cells": [
  {
   "cell_type": "code",
   "execution_count": null,
   "metadata": {},
   "outputs": [],
   "source": [
    "from keras import utils\n",
    "from time import time\n",
    "from dqn_model import DQNAgent\n",
    "from game_env import SnakeGameEnv\n",
    "from model_eval import ModelEval\n",
    "\n",
    "utils.disable_interactive_logging()"
   ]
  },
  {
   "cell_type": "code",
   "execution_count": null,
   "metadata": {},
   "outputs": [],
   "source": [
    "env = SnakeGameEnv(grid_size=10)\n",
    "agent = DQNAgent(state_size=(21,), action_size=3)\n",
    "model_evaluator = ModelEval(env, agent)"
   ]
  },
  {
   "cell_type": "code",
   "execution_count": null,
   "metadata": {},
   "outputs": [],
   "source": [
    "# Train the model\n",
    "model_evaluator.train_model(num_episodes=1500)\n",
    "agent.model.save(f\"models/snake_model_final-{int(time())}.h5\")"
   ]
  },
  {
   "cell_type": "code",
   "execution_count": null,
   "metadata": {},
   "outputs": [],
   "source": [
    "# Test the model\n",
    "model_evaluator.test_model(num_episodes=50)"
   ]
  }
 ],
 "metadata": {
  "kernelspec": {
   "display_name": "Python 3.10.6 ('venv': venv)",
   "language": "python",
   "name": "python3"
  },
  "language_info": {
   "codemirror_mode": {
    "name": "ipython",
    "version": 3
   },
   "file_extension": ".py",
   "mimetype": "text/x-python",
   "name": "python",
   "nbconvert_exporter": "python",
   "pygments_lexer": "ipython3",
   "version": "3.10.6"
  },
  "orig_nbformat": 4,
  "vscode": {
   "interpreter": {
    "hash": "67a490b2bdede82ab4abcc09b379ebf6dab3f5f723bba883e8bd128528dbe297"
   }
  }
 },
 "nbformat": 4,
 "nbformat_minor": 2
}
