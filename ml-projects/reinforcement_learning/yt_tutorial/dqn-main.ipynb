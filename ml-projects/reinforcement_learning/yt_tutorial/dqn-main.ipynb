{
 "cells": [
  {
   "cell_type": "code",
   "execution_count": 3,
   "metadata": {},
   "outputs": [],
   "source": [
    "import tensorflow as tf\n",
    "from keras.models import Sequential\n",
    "from keras.layers import Conv2D, MaxPooling2D, Dropout, Dense, Flatten\n",
    "from keras.optimizers import Adam\n",
    "from keras.callbacks import TensorBoard\n",
    "import numpy as np\n",
    "from collections import deque\n",
    "import time"
   ]
  },
  {
   "cell_type": "code",
   "execution_count": 4,
   "metadata": {},
   "outputs": [],
   "source": [
    "# Own Tensorboard class\n",
    "class ModifiedTensorBoard(TensorBoard):\n",
    "\n",
    "    # Overriding init to set initial step and writer (we want one log file for all .fit() calls)\n",
    "    def __init__(self, **kwargs):\n",
    "        super().__init__(**kwargs)\n",
    "        self.step = 1\n",
    "        self.writer = tf.summary.FileWriter(self.log_dir)\n",
    "\n",
    "    # Overriding this method to stop creating default log writer\n",
    "    def set_model(self, model):\n",
    "        pass\n",
    "\n",
    "    # Overrided, saves logs with our step number\n",
    "    # (otherwise every .fit() will start writing from 0th step)\n",
    "    def on_epoch_end(self, epoch, logs=None):\n",
    "        self.update_stats(**logs)\n",
    "\n",
    "    # Overrided\n",
    "    # We train for one batch only, no need to save anything at epoch end\n",
    "    def on_batch_end(self, batch, logs=None):\n",
    "        pass\n",
    "\n",
    "    # Overrided, so won't close writer\n",
    "    def on_train_end(self, _):\n",
    "        pass\n",
    "\n",
    "    # Custom method for saving own metrics\n",
    "    # Creates writer, writes custom metrics and closes writer\n",
    "    def update_stats(self, **stats):\n",
    "        self._write_logs(stats, self.step)"
   ]
  },
  {
   "cell_type": "markdown",
   "metadata": {},
   "source": [
    "### Create the DQN Agent Class"
   ]
  },
  {
   "cell_type": "code",
   "execution_count": null,
   "metadata": {},
   "outputs": [],
   "source": [
    "MODEL_NAME = \"256x2\"\n",
    "REPLAY_MEMORY_SIZE = 50_000\n",
    "\n",
    "class DQNAgent:\n",
    "    \n",
    "    def __init__(self):\n",
    "        # Main model - used for the training\n",
    "        self.model = self.create_model()\n",
    "\n",
    "        # Target Model - used for the prediction\n",
    "        self.target_model = self.create_model()\n",
    "\n",
    "        self.target_model.set_weights(self.model.get_weights())\n",
    "        self.replay_memory = deque(maxlen=REPLAY_MEMORY_SIZE)\n",
    "        self.tensorboard = ModifiedTensorBoard(log_dir=f\"logs/{MODEL_NAME}-{int(time.time())}\")\n",
    "        self.target_update_counter = 0\n",
    "\n",
    "    def create_model(self, env):\n",
    "        model = Sequential([\n",
    "            Conv2D(256, (3, 3), input_shape=env.STATE_SPACE_SIZE, activation='relu'),\n",
    "            MaxPooling2D((2, 2)),\n",
    "            Dropout(0.2),\n",
    "            Conv2D(256, (3, 3), input_shape=env.STATE_SPACE_SIZE, activation='relu'),\n",
    "            MaxPooling2D((2, 2)),\n",
    "            Dropout(0.2),\n",
    "            Flatten(),\n",
    "            Dense(64),\n",
    "            Dense(env.ACTION_SPACE_SIZE, activation='linear')\n",
    "        ])\n",
    "        model.compile(loss='mse', optimizer=Adam(learning_rate=0.001), metrics=['accuracy'])\n",
    "        return model\n",
    "    \n",
    "    def update_replay_memory(self, experience):\n",
    "        self.replay_memory.append(experience)\n",
    "\n",
    "    def get_qs(self, state, step):\n",
    "        return self.model_predict(np.array(state).reshape(-1, *state.shape)/255)[0]\n"
   ]
  }
 ],
 "metadata": {
  "kernelspec": {
   "display_name": "Python 3.10.6 ('venv': venv)",
   "language": "python",
   "name": "python3"
  },
  "language_info": {
   "codemirror_mode": {
    "name": "ipython",
    "version": 3
   },
   "file_extension": ".py",
   "mimetype": "text/x-python",
   "name": "python",
   "nbconvert_exporter": "python",
   "pygments_lexer": "ipython3",
   "version": "3.10.6"
  },
  "orig_nbformat": 4,
  "vscode": {
   "interpreter": {
    "hash": "6ca2bc47f542639c4e55152337bf93c569bfc8366ab825c41e4d3d3446384e64"
   }
  }
 },
 "nbformat": 4,
 "nbformat_minor": 2
}
