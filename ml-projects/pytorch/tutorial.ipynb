{
 "cells": [
  {
   "cell_type": "code",
   "execution_count": null,
   "metadata": {},
   "outputs": [],
   "source": [
    "import torch"
   ]
  },
  {
   "cell_type": "markdown",
   "metadata": {},
   "source": [
    "### Topic 1: Basic Operations and Manipulations"
   ]
  },
  {
   "cell_type": "code",
   "execution_count": null,
   "metadata": {},
   "outputs": [],
   "source": [
    "tensor1 = torch.tensor([[1,2], [3,4]])\n",
    "tensor2 = torch.tensor([[5,6], [7,8]])\n",
    "\n",
    "add = tensor1 + tensor2\n",
    "sub = tensor2 - tensor1\n",
    "mul = tensor1 * tensor2\n",
    "div = tensor2 / tensor1\n",
    "\n",
    "# print(add, sub, mul, div)\n",
    "\n",
    "mean = torch.mean(tensor1, dtype=float)\n",
    "maxi = torch.max(tensor1)\n",
    "s = torch.sum(tensor1)\n",
    "\n",
    "# print(mean, maxi, s)\n",
    "\n",
    "reshaped_tensor = tensor1.view(1, -1)\n",
    "sliced_tensor = tensor1[:, 1]\n",
    "\n",
    "# print(reshaped_tensor, sliced_tensor)"
   ]
  },
  {
   "cell_type": "markdown",
   "metadata": {},
   "source": [
    "### Topic 3: Autograd and Automatic Differentiation"
   ]
  },
  {
   "cell_type": "code",
   "execution_count": null,
   "metadata": {},
   "outputs": [],
   "source": [
    "x = torch.tensor(2.0, requires_grad=True)\n",
    "\n",
    "y = 3 * x ** 2\n",
    "\n",
    "y.backward()\n",
    "print(x.grad)\n",
    "\n",
    "with torch.no_grad():\n",
    "    z = y * 2\n",
    "\n",
    "print(z)"
   ]
  },
  {
   "cell_type": "code",
   "execution_count": null,
   "metadata": {},
   "outputs": [],
   "source": [
    "x = torch.tensor([[1.0, 2.0], [3.0, 4.0]], requires_grad=True)\n",
    "y = x * 2 + 1\n",
    "z = y.mean()\n",
    "\n",
    "z.backward()\n",
    "print(x.grad)"
   ]
  },
  {
   "cell_type": "markdown",
   "metadata": {},
   "source": [
    "### Topic 4: Building Your First Neural Network"
   ]
  },
  {
   "cell_type": "code",
   "execution_count": null,
   "metadata": {},
   "outputs": [],
   "source": [
    "import torch.nn as nn\n",
    "from torchsummary import summary\n",
    "\n",
    "class SimpleNN(nn.Module):\n",
    "    def __init__(self):\n",
    "        super().__init__()\n",
    "        self.flatten = nn.Flatten()\n",
    "        self.fc1 = nn.Linear(28*28, 256)    # Input: 28*28 (digit image pixel dimensions)     Output: 128\n",
    "        self.fc2 = nn.Linear(256, 128)       # Input: 128     Output: 64\n",
    "        self.fc3 = nn.Linear(128, 10)        # Input: 64     Output: 10\n",
    "        self.relu = nn.ReLU()\n",
    "        self.loss_function = nn.MSELoss()\n",
    "    \n",
    "    def forward(self, x):\n",
    "        x = self.flatten(x)\n",
    "        x = self.fc1(x)\n",
    "        x = self.relu(x)\n",
    "        x = self.fc2(x)\n",
    "        x = self.relu(x)\n",
    "        x = self.fc3(x)\n",
    "        return x\n",
    "    \n",
    "# net = SimpleNN()\n",
    "# summary(net, (10,))"
   ]
  },
  {
   "cell_type": "markdown",
   "metadata": {},
   "source": [
    "### Topic 5: Training and Evaluating Your Model"
   ]
  },
  {
   "cell_type": "code",
   "execution_count": null,
   "metadata": {},
   "outputs": [],
   "source": [
    "import torch.optim as optim\n",
    "from sklearn.model_selection import train_test_split\n",
    "from torch.utils.data import DataLoader, TensorDataset\n",
    "\n",
    "features = torch.randn(1000, 28, 28)\n",
    "lables = torch.randint(0, 9, (1000, 10))\n",
    "\n",
    "X_train, X_test, y_train, y_test = train_test_split(features, lables, test_size=0.2)\n",
    "\n",
    "model = SimpleNN()\n",
    "optimizer = optim.Adam(model.parameters(), lr=0.001)\n",
    "\n",
    "dataset = TensorDataset(X_train, y_train)\n",
    "batch_size = 32\n",
    "train_data = DataLoader(dataset, batch_size=batch_size, shuffle=True)\n",
    "\n",
    "# Set the model to training mode\n",
    "model.train()\n",
    "\n",
    "# Training Loop\n",
    "num_epochs = 10\n",
    "for epoch in range(num_epochs):\n",
    "    for batch_features, batch_labels in train_data:\n",
    "        # Forward Pass\n",
    "        outputs = model(batch_features)\n",
    "\n",
    "        # Compute Loss\n",
    "        loss = model.loss_function(outputs, batch_labels.float())\n",
    "\n",
    "        # Backward Pass and Optimization\n",
    "        optimizer.zero_grad()\n",
    "        loss.backward()\n",
    "        optimizer.step()\n",
    "\n",
    "# Set the model to evaluation mode\n",
    "model.eval()\n",
    "\n",
    "# Evaluation\n",
    "with torch.no_grad():\n",
    "    test_outputs = model(X_test)\n",
    "    test_loss = model.loss_function(test_outputs, y_test)\n",
    "\n",
    "print(f\"Test Loss: {test_loss}\")"
   ]
  },
  {
   "cell_type": "markdown",
   "metadata": {},
   "source": [
    "### Topic 6: Fine-Tuning a Pretrained Model"
   ]
  },
  {
   "cell_type": "code",
   "execution_count": null,
   "metadata": {},
   "outputs": [],
   "source": [
    "import torchvision.models as models\n",
    "\n",
    "# Loading a pretrained model\n",
    "weights = models.ResNet18_Weights.DEFAULT\n",
    "pretrained_resnet = models.resnet18(weights=weights)\n",
    "\n",
    "# Display the model architecture\n",
    "# print(pretrained_resnet)\n",
    "\n",
    "# Modify the final layer(s)\n",
    "num_classes = 10\n",
    "pretrained_resnet.fc = nn.Linear(pretrained_resnet.fc.in_features, num_classes)\n",
    "\n",
    "# Freeze or Unfreeze the layer(s)\n",
    "for param in pretrained_resnet.parameters():\n",
    "    param.requires_grad = False\n",
    "\n",
    "# Freeze specific layer(s)\n",
    "for name, param in pretrained_resnet.named_parameters():\n",
    "    if 'conv1' in name or 'bn1' in name:\n",
    "        param.requires_grad = False"
   ]
  },
  {
   "cell_type": "code",
   "execution_count": null,
   "metadata": {},
   "outputs": [],
   "source": [
    "import torchvision.transforms as transforms\n",
    "from torchvision.datasets import MNIST\n",
    "import matplotlib.pyplot as plt\n",
    "\n",
    "# Load the MNIST dataset\n",
    "transform = transforms.Compose([\n",
    "    # transforms.Grayscale(num_output_channels=3),  # ResNet expects 3 channels\n",
    "    # transforms.Resize((224, 224)),  # ResNet's input size\n",
    "    transforms.ToTensor(),\n",
    "    transforms.Normalize((0.5,), (0.5,))\n",
    "])\n",
    "\n",
    "train_dataset = MNIST(root='./data', train=True, transform=transform, download=True)\n",
    "val_dataset = MNIST(root='./data', train=False, transform=transform)\n",
    "\n",
    "# DataLoader for training and validation sets\n",
    "train_loader = DataLoader(train_dataset, batch_size=32, shuffle=True)\n",
    "val_loader = DataLoader(val_dataset, batch_size=32)\n",
    "\n",
    "# Loading a pretrained model\n",
    "weights = models.ResNet18_Weights.DEFAULT\n",
    "model = models.resnet18(weights=weights)\n",
    "\n",
    "# Modify the final classifier (fully connected layers)\n",
    "# Assuming we're doing a classification task with 10 classes (digits 0-9)\n",
    "num_classes = 10\n",
    "model.fc = nn.Linear(model.fc.in_features, num_classes)\n",
    "\n",
    "model = SimpleNN()\n",
    "\n",
    "# Define loss function and optimizer\n",
    "criterion = nn.CrossEntropyLoss()\n",
    "optimizer = optim.Adam(model.parameters(), lr=0.001)\n",
    "\n",
    "# Training and Validation Loop\n",
    "num_epochs = 10\n",
    "train_data_size, val_data_size = len(train_loader.dataset), len(val_loader.dataset)\n",
    "train_losses, val_losses = [], []\n",
    "\n",
    "for epoch in range(num_epochs):\n",
    "    # Training\n",
    "    model.train()\n",
    "    train_loss = 0.0\n",
    "    for batch_data, batch_labels in train_loader:\n",
    "        optimizer.zero_grad()\n",
    "        outputs = model(batch_data)\n",
    "        loss = criterion(outputs, batch_labels)\n",
    "        loss.backward()\n",
    "        optimizer.step()\n",
    "        train_loss += loss.item() * batch_data.size(0)\n",
    "    train_loss /= train_data_size\n",
    "    train_losses.append(train_loss)\n",
    "\n",
    "    # Validation\n",
    "    model.eval()\n",
    "    val_loss = 0.0\n",
    "    correct = 0\n",
    "    with torch.no_grad():\n",
    "        for batch_features, batch_labels in val_loader:\n",
    "            outputs = model(batch_features)\n",
    "            loss = criterion(outputs, batch_labels)\n",
    "            val_loss += loss.item() * batch_features.size(0)\n",
    "            _, predicted = torch.max(outputs.data, 1)\n",
    "            correct += (predicted == batch_labels).sum().item()\n",
    "        val_loss /= val_data_size\n",
    "        val_losses.append(val_loss)\n",
    "    \n",
    "    print(f'Epoch [{epoch+1}/{num_epochs}], '\n",
    "          f'Training Loss: {train_loss:.4f}, '\n",
    "          f'Validation Loss: {val_loss:.4f}, '\n",
    "          f'Validation Accuracy: {(100 * correct / val_data_size):.2f}%')\n",
    "\n",
    "torch.save(model, 'digit_model.pth')\n",
    "    \n",
    "    # Plot training and validation losses\n",
    "plt.plot(train_losses, label='Training Loss')\n",
    "plt.plot(val_losses, label='Validation Loss')\n",
    "plt.xlabel('Epoch')\n",
    "plt.ylabel('Loss')\n",
    "plt.legend()\n",
    "plt.show()"
   ]
  }
 ],
 "metadata": {
  "kernelspec": {
   "display_name": "Python 3.10.6 ('venv': venv)",
   "language": "python",
   "name": "python3"
  },
  "language_info": {
   "codemirror_mode": {
    "name": "ipython",
    "version": 3
   },
   "file_extension": ".py",
   "mimetype": "text/x-python",
   "name": "python",
   "nbconvert_exporter": "python",
   "pygments_lexer": "ipython3",
   "version": "3.10.6"
  },
  "orig_nbformat": 4,
  "vscode": {
   "interpreter": {
    "hash": "6ca2bc47f542639c4e55152337bf93c569bfc8366ab825c41e4d3d3446384e64"
   }
  }
 },
 "nbformat": 4,
 "nbformat_minor": 2
}
