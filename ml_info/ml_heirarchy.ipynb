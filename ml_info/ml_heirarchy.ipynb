{
 "cells": [
  {
   "cell_type": "markdown",
   "metadata": {},
   "source": [
    "<h1 style=\"color: #57b6ff; font-family: 'Orbitron'; font-weight: 500\">Machine Learning</h1>"
   ]
  },
  {
   "cell_type": "markdown",
   "metadata": {},
   "source": [
    "<h3 style=\"font-family: 'Poppins'; color: #f54eec;\">1. Supervised Learning</h3>"
   ]
  },
  {
   "cell_type": "markdown",
   "metadata": {},
   "source": [
    "- Linear Regression\n",
    "- Logistic Regression\n",
    "- Decision Trees\n",
    "- Support Vector Machines (SVM)\n",
    "- K-Nearest Neighbours (KNN)\n",
    "- Naive Bayes Classifier\n",
    "- Ensemble Methods (e.g Random Forest and Gradient Boosting)"
   ]
  },
  {
   "cell_type": "markdown",
   "metadata": {},
   "source": [
    "<h3 style=\"font-family: 'Poppins'; color: #f54eec;\">2. Unsupervised Learning</h3>"
   ]
  },
  {
   "cell_type": "markdown",
   "metadata": {},
   "source": [
    "- Clustering Algorithms\n",
    "    - K-Means\n",
    "    - Hierarchical Clustering\n",
    "    - DBSCAN\n",
    "- Assosiation Rule Mining\n",
    "    - Apriori\n",
    "    - FP-Growth\n",
    "- Dimensionality Reduction\n",
    "    - Principal Component Analysis (PCA)\n",
    "    - t-SNE\n",
    "    - Locally Linear Embedding (LLE)"
   ]
  },
  {
   "cell_type": "markdown",
   "metadata": {},
   "source": [
    "<h3 style=\"font-family: 'Poppins'; color: #f54eec\">3. Reinforcement Learning</h3>"
   ]
  },
  {
   "cell_type": "markdown",
   "metadata": {},
   "source": [
    "- Basics of Reinforcement Learning\n",
    "- Markov Decision Processes (MDPs)\n",
    "- Q-Learning\n",
    "- Deep Q-Networks (DQN)\n",
    "- Policy Gradients\n",
    "- Actor-Critic Methods"
   ]
  },
  {
   "cell_type": "markdown",
   "metadata": {},
   "source": [
    "<h3 style=\"font-family: 'Poppins'; color: #f54eec\">4. Deep Learning</h3>"
   ]
  },
  {
   "cell_type": "markdown",
   "metadata": {},
   "source": [
    "- Neural Networks (Artificial Neural Networks)\n",
    "- Convolutional Neural Networks (CNN)\n",
    "- Recurrent Neural Networks (RNN)\n",
    "- Long Short-Term Memory (LSTM)\n",
    "- Autoencoders\n",
    "- Generative Adversarial Networks (GANs)\n",
    "- Transfer Learning in Deep Learning"
   ]
  }
 ],
 "metadata": {
  "kernelspec": {
   "display_name": "Python 3.10.6 ('venv': venv)",
   "language": "python",
   "name": "python3"
  },
  "language_info": {
   "name": "python",
   "version": "3.10.6"
  },
  "orig_nbformat": 4,
  "vscode": {
   "interpreter": {
    "hash": "6ca2bc47f542639c4e55152337bf93c569bfc8366ab825c41e4d3d3446384e64"
   }
  }
 },
 "nbformat": 4,
 "nbformat_minor": 2
}
